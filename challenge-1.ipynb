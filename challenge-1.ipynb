{
 "cells": [
  {
   "cell_type": "code",
   "execution_count": 1,
   "metadata": {},
   "outputs": [],
   "source": [
    "import time \n",
    "import requests\n",
    "import cv2\n",
    "import operator\n",
    "import numpy as np\n",
    "import json\n",
    "\n",
    "# Import compatibility libraries (python 2/3 support)\n",
    "from __future__ import absolute_import\n",
    "from __future__ import division\n",
    "from __future__ import print_function\n",
    "from __future__ import unicode_literals\n",
    "\n",
    "# Python 3\n",
    "try:\n",
    "    from urllib.request import urlopen, Request\n",
    "    from urllib.parse import urlparse, urlencode\n",
    "    from http.client import HTTPSConnection\n",
    "# Python 2.7\n",
    "except ImportError:\n",
    "    from urlparse import urlparse\n",
    "    from urllib import urlencode\n",
    "    from urllib2 import Request, urlopen\n",
    "    from httplib import HTTPSConnection\n",
    "\n",
    "# Import library to display results\n",
    "import matplotlib.pyplot as plt\n",
    "%matplotlib inline \n",
    "# Display images within Jupyter"
   ]
  },
  {
   "cell_type": "markdown",
   "metadata": {},
   "source": [
    "## Get some constants"
   ]
  },
  {
   "cell_type": "code",
   "execution_count": 2,
   "metadata": {},
   "outputs": [],
   "source": [
    "# This could also be an external file\n",
    "config_json = '''{\n",
    "\"subscription_key_computer_vision\": \"adab405efde94809a2e24dfd2b585b29\"\n",
    "}'''\n",
    "\n",
    "CONFIG=json.loads(config_json)\n",
    "# grab key from json in config\n",
    "subscription_key = CONFIG['subscription_key_computer_vision']"
   ]
  },
  {
   "cell_type": "code",
   "execution_count": 3,
   "metadata": {},
   "outputs": [],
   "source": [
    "\n",
    "# Variables# Varia \n",
    "\n",
    "# Make sure to take your Endpoint from Overview page of API in Azure Portal\n",
    "_url = 'https://southcentralus.api.cognitive.microsoft.com/customvision/v2.0/Prediction/9f3f9c00-3ac8-40b8-b054-ffb5ead96443/url?iterationId=cdb77c52-a821-4327-b2ab-15ddce62c912' # change the ending to 'analyze' or 'describe'\n",
    "_key = subscription_key\n",
    "\n",
    "_maxNumRetries = 10"
   ]
  },
  {
   "cell_type": "code",
   "execution_count": 4,
   "metadata": {},
   "outputs": [],
   "source": [
    "def processRequest( json, data, headers, params ):\n",
    "\n",
    "    \"\"\"\n",
    "    Helper function to process the request to Project Oxford\n",
    "\n",
    "    Parameters:\n",
    "    json: Used when processing images from its URL. See API Documentation\n",
    "    data: Used when processing image read from disk. See API Documentation\n",
    "    headers: Used to pass the key information and the data type request\n",
    "    \"\"\"\n",
    "\n",
    "    retries = 0\n",
    "    result = None\n",
    "\n",
    "    while True:\n",
    "        # Use the requests library to make the POST call\n",
    "        response = requests.request( 'post', \n",
    "                                    _url, \n",
    "                                    json=json, \n",
    "                                    data=data, \n",
    "                                    headers=headers, \n",
    "                                    params=params )\n",
    "\n",
    "        if response.status_code == 429: \n",
    "            print( \"Message: %s\" % ( response.json()['error']['message'] ) )\n",
    "            if retries <= _maxNumRetries: \n",
    "                time.sleep(1) \n",
    "                retries += 1\n",
    "                continue\n",
    "            else: \n",
    "                print( 'Error: failed after retrying!' )\n",
    "                break\n",
    "                \n",
    "        # We have a successful response, but let's do some tests on response data\n",
    "        elif response.status_code == 200 or response.status_code == 201:\n",
    "            if 'content-length' in response.headers and \\\n",
    "                int(response.headers['content-length']) == 0: \n",
    "                    \n",
    "                result = None\n",
    "                \n",
    "            elif 'content-type' in response.headers and \\\n",
    "                isinstance(response.headers['content-type'], str):\n",
    "                    \n",
    "                if 'application/json' in response.headers['content-type'].lower(): \n",
    "                    result = response.json() if response.content else None\n",
    "                    \n",
    "                elif 'image' in response.headers['content-type'].lower(): \n",
    "                    result = response.content\n",
    "        else:\n",
    "            print( \"Error code: %d\" % ( response.status_code ) )\n",
    "            print( \"Message: %s\" % ( response.json() ) )\n",
    "\n",
    "        break\n",
    "        \n",
    "    return result"
   ]
  },
  {
   "cell_type": "code",
   "execution_count": 9,
   "metadata": {},
   "outputs": [],
   "source": [
    "def renderResultOnImage( result, img ):\n",
    "    \"\"\"Display the obtained results onto the input image\"\"\"\n",
    "\n",
    "    if 'description' in result:\n",
    "        descrip = result['description']['captions'][0]['text']\n",
    "        print(descrip)\n",
    "        cv2.putText(img, descrip, (30,70), cv2.FONT_HERSHEY_SIMPLEX, 1, (255,0,0), 3)\n",
    "    if 'categories' in result:\n",
    "        # Put a rectangle around the image to reflect accent colors\n",
    "        R = int(result['color']['accentColor'][:2],16)\n",
    "        G = int(result['color']['accentColor'][2:4],16)\n",
    "        B = int(result['color']['accentColor'][4:],16)\n",
    "        if img is not None:\n",
    "            cv2.rectangle(img,(0,0), (img.shape[1], img.shape[0]), color=(R,G,B), thickness=25)\n",
    "\n",
    "        categoryName = sorted(result['categories'], key=lambda x: x['score'])[0]['name']\n",
    "        print(categoryName)\n",
    "        cv2.putText(img, categoryName, (30,70), cv2.FONT_HERSHEY_SIMPLEX, 2, (255,0,0), 3)"
   ]
  },
  {
   "cell_type": "markdown",
   "metadata": {},
   "source": [
    "\n",
    "## Analysis of an image retrieved via URL\n",
    "<font color=green>Place an image URL here in the urlImage variable (must be a good quality, large image)</font>\n",
    "Input requirements:\n",
    "\n",
    "Supported image formats: JPEG, PNG, GIF, BMP.\n",
    "Image file size must be less than 4MB.\n",
    "Image dimensions should be greater than 50 x 50."
   ]
  },
  {
   "cell_type": "code",
   "execution_count": 27,
   "metadata": {},
   "outputs": [],
   "source": [
    "urlImage = 'https://http2.mlstatic.com/leon-adulto-de-peluche-y-felpa-wild-republic-D_NQ_NP_21186-MCO20204954214_112014-F.jpg'"
   ]
  },
  {
   "cell_type": "code",
   "execution_count": 28,
   "metadata": {},
   "outputs": [
    {
     "data": {
      "text/html": [
       "<img src=\"https://http2.mlstatic.com/leon-adulto-de-peluche-y-felpa-wild-republic-D_NQ_NP_21186-MCO20204954214_112014-F.jpg\"/>"
      ],
      "text/plain": [
       "<IPython.core.display.Image object>"
      ]
     },
     "metadata": {},
     "output_type": "display_data"
    }
   ],
   "source": [
    "from IPython.display import display, Image\n",
    "\n",
    "\n",
    "# Computer Vision parameters\n",
    "params = { 'visualFeatures' : 'Color,Categories'} \n",
    "\n",
    "headers = dict()\n",
    "headers['Prediction-Key'] = _key\n",
    "headers['Content-Type'] = 'application/json' \n",
    "\n",
    "json = { 'url': urlImage } \n",
    "data = None\n",
    "\n",
    "result = processRequest(json, data, headers, params)\n",
    "\n",
    "if result is not None:\n",
    "    # Load the original image, fetched from the URL\n",
    "    arr = np.asarray( bytearray( requests.get( urlImage ).content ), \n",
    "                     dtype=np.uint8 )\n",
    "    arr = arr[...,::-1]\n",
    "    \n",
    "    img = cv2.imdecode(arr, cv2.IMREAD_COLOR)\n",
    "    \n",
    "    \n",
    "\n",
    "    renderResultOnImage(result, img)\n",
    "    \n",
    "    if img is not None:\n",
    "        plt.subplots(figsize=(15, 20))\n",
    "        plt.imshow(img)\n",
    "    else:\n",
    "        img = Image(url=urlImage, embed=False)\n",
    "        display(img)"
   ]
  },
  {
   "cell_type": "code",
   "execution_count": 24,
   "metadata": {},
   "outputs": [],
   "source": [
    "import requests"
   ]
  },
  {
   "cell_type": "code",
   "execution_count": 25,
   "metadata": {},
   "outputs": [
    {
     "ename": "TypeError",
     "evalue": "get() missing 1 required positional argument: 'url'",
     "output_type": "error",
     "traceback": [
      "\u001b[0;31m---------------------------------------------------------------------------\u001b[0m",
      "\u001b[0;31mTypeError\u001b[0m                                 Traceback (most recent call last)",
      "\u001b[0;32m<ipython-input-25-34dd9aae6f9a>\u001b[0m in \u001b[0;36m<module>\u001b[0;34m()\u001b[0m\n\u001b[0;32m----> 1\u001b[0;31m \u001b[0mrequests\u001b[0m\u001b[0;34m.\u001b[0m\u001b[0mget\u001b[0m\u001b[0;34m(\u001b[0m\u001b[0;34m)\u001b[0m\u001b[0;34m\u001b[0m\u001b[0m\n\u001b[0m",
      "\u001b[0;31mTypeError\u001b[0m: get() missing 1 required positional argument: 'url'"
     ]
    }
   ],
   "source": [
    "requests.get()"
   ]
  },
  {
   "cell_type": "code",
   "execution_count": 29,
   "metadata": {},
   "outputs": [
    {
     "data": {
      "text/plain": [
       "{'created': '2018-09-04T02:30:20.2503661Z',\n",
       " 'id': '20515818-c3cb-424c-ab7c-06c4724a555e',\n",
       " 'iteration': 'cdb77c52-a821-4327-b2ab-15ddce62c912',\n",
       " 'predictions': [{'probability': 0.736275554,\n",
       "   'tagId': '6ba2fed8-f76e-4f45-a9ad-5bca0d9db06b',\n",
       "   'tagName': 'insulated_jackets'},\n",
       "  {'probability': 0.263724416,\n",
       "   'tagId': '2fdda095-59a3-49b9-9a47-b0a795c398f3',\n",
       "   'tagName': 'hardshell_jacket'}],\n",
       " 'project': '9f3f9c00-3ac8-40b8-b054-ffb5ead96443'}"
      ]
     },
     "execution_count": 29,
     "metadata": {},
     "output_type": "execute_result"
    }
   ],
   "source": [
    "result"
   ]
  },
  {
   "cell_type": "code",
   "execution_count": null,
   "metadata": {},
   "outputs": [],
   "source": []
  },
  {
   "cell_type": "code",
   "execution_count": 30,
   "metadata": {},
   "outputs": [
    {
     "data": {
      "text/plain": [
       "{'Content-Type': 'application/json',\n",
       " 'Prediction-Key': 'adab405efde94809a2e24dfd2b585b29'}"
      ]
     },
     "execution_count": 30,
     "metadata": {},
     "output_type": "execute_result"
    }
   ],
   "source": [
    "headers"
   ]
  },
  {
   "cell_type": "code",
   "execution_count": 34,
   "metadata": {},
   "outputs": [],
   "source": [
    "response = requests.request( 'post', _url, json=json, \n",
    "                                    data=data, \n",
    "                                    headers=headers, \n",
    "                                    params=params )"
   ]
  },
  {
   "cell_type": "code",
   "execution_count": 35,
   "metadata": {},
   "outputs": [
    {
     "data": {
      "text/plain": [
       "b'{\"id\":\"3dbf2262-7461-4045-abbd-4e781befd75b\",\"project\":\"9f3f9c00-3ac8-40b8-b054-ffb5ead96443\",\"iteration\":\"cdb77c52-a821-4327-b2ab-15ddce62c912\",\"created\":\"2018-09-04T03:14:59.7064944Z\",\"predictions\":[{\"probability\":0.736275554,\"tagId\":\"6ba2fed8-f76e-4f45-a9ad-5bca0d9db06b\",\"tagName\":\"insulated_jackets\"},{\"probability\":0.263724416,\"tagId\":\"2fdda095-59a3-49b9-9a47-b0a795c398f3\",\"tagName\":\"hardshell_jacket\"}]}'"
      ]
     },
     "execution_count": 35,
     "metadata": {},
     "output_type": "execute_result"
    }
   ],
   "source": [
    "response.content"
   ]
  },
  {
   "cell_type": "code",
   "execution_count": null,
   "metadata": {},
   "outputs": [],
   "source": []
  }
 ],
 "metadata": {
  "kernelspec": {
   "display_name": "Python 3",
   "language": "python",
   "name": "python3"
  },
  "language_info": {
   "codemirror_mode": {
    "name": "ipython",
    "version": 3
   },
   "file_extension": ".py",
   "mimetype": "text/x-python",
   "name": "python",
   "nbconvert_exporter": "python",
   "pygments_lexer": "ipython3",
   "version": "3.5.5"
  }
 },
 "nbformat": 4,
 "nbformat_minor": 2
}
